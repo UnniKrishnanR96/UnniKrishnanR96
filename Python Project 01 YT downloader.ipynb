{
 "cells": [
  {
   "cell_type": "markdown",
   "id": "2e59f065",
   "metadata": {},
   "source": [
    "STATEMENT: CREATE A YT DOWNLOADER APP WITH GUI USING THE PYTHON"
   ]
  },
  {
   "cell_type": "code",
   "execution_count": 2,
   "id": "14632169",
   "metadata": {},
   "outputs": [
    {
     "name": "stdout",
     "output_type": "stream",
     "text": [
      "Collecting pytube\n",
      "  Downloading pytube-11.0.2-py3-none-any.whl (56 kB)\n",
      "Installing collected packages: pytube\n",
      "Successfully installed pytube-11.0.2\n",
      "Note: you may need to restart the kernel to use updated packages.\n"
     ]
    }
   ],
   "source": [
    "pip install pytube  #Pytube is a third party library"
   ]
  },
  {
   "cell_type": "code",
   "execution_count": 14,
   "id": "64be2020",
   "metadata": {},
   "outputs": [],
   "source": [
    "#Step: 1 Importing necessary Packages.\n",
    "import tkinter as tk\n",
    "from tkinter import *\n",
    "from pytube import YouTube #Here, it can be any site since pytube can be used to access any videos on net\n",
    "from tkinter import messagebox as mb"
   ]
  },
  {
   "cell_type": "code",
   "execution_count": 27,
   "id": "e3ad32dc",
   "metadata": {},
   "outputs": [],
   "source": [
    "# Defining the downloader function for YouTube Video Downloader project using Python\n",
    "def downloader(link, directory, filename):\n",
    "    yt_link = link.get()\n",
    "    save_path = directory.get()\n",
    "    aftersave_filename = filename.get()\n",
    "\n",
    "    try:\n",
    "        yt = YouTube(yt_link)\n",
    "        video = yt.streams.first()\n",
    "        video.download(save_path, aftersave_filename)\n",
    "    except:\n",
    "        mb.showerror('Error', 'Connection Error! You are offline!')\n",
    "\n",
    "\n",
    "def reset(l_strvar, d_strvar, fn_strvar):\n",
    "    l_strvar.set('')\n",
    "    d_strvar.set('')\n",
    "    fn_strvar.set('')\n",
    "# Initializing the window\n",
    "root = Tk()\n",
    "root.title('Youtube Video Downloader')\n",
    "root.geometry('800x200')\n",
    "root.resizable(0, 0)\n",
    "root.config(bg='Yellow')\n",
    "\n",
    "# Heading label\n",
    "Label(root, text='Youtube Video Downloader', font=(\"Cyberpunk\", 15), bg='Yellow').place(relx=0.25, rely=0.0)\n",
    "\n",
    "# Creating the main window\n",
    "Label(root, text='Enter the Youtube link:', font=(\"Cyberpunk\", 13), bg='Yellow').place(relx=0.05, rely=0.2)\n",
    "\n",
    "link_strvar = StringVar(root)\n",
    "link_entry = Entry(root, width=50, textvariable=link_strvar)\n",
    "link_entry.place(relx=0.5, rely=0.2)\n",
    "\n",
    "\n",
    "Label(root, text='Enter the save location:', font=(\"Cyberpunk\", 13), bg='Yellow').place(relx=0.05, rely=0.4)\n",
    "\n",
    "dir_strvar = StringVar(root)\n",
    "dir_entry = Entry(root, width=50, textvariable=dir_strvar)\n",
    "dir_entry.place(relx=0.5, rely=0.4)\n",
    "\n",
    "\n",
    "Label(root, text='Enter the filename:', font=(\"Cyberpunk\", 13), bg='Yellow').place(relx=0.05, rely=0.6)\n",
    "\n",
    "filename_strvar = StringVar(root)\n",
    "filename_entry = Entry(root, width=50, textvariable=filename_strvar)\n",
    "filename_entry.place(relx=0.5, rely=0.6)\n",
    "\n",
    "# Creating the buttons\n",
    "download_btn = Button(root, text='Download', font=7, bg='Aquamarine',\n",
    "                      command=lambda: downloader(link_entry, dir_entry, filename_entry)).place(relx=0.3, rely=0.75)\n",
    "\n",
    "reset_btn = Button(root, text='Reset', font=7, bg='Aquamarine',\n",
    "                   command=lambda: reset(link_strvar, dir_strvar, filename_strvar)).place(relx=0.5, rely=0.75)\n",
    "\n",
    "# Finalizing the window of Python YouTube Video Downloader project\n",
    "root.update()\n",
    "root.mainloop()"
   ]
  },
  {
   "cell_type": "code",
   "execution_count": null,
   "id": "0c4ee02c",
   "metadata": {},
   "outputs": [],
   "source": []
  }
 ],
 "metadata": {
  "kernelspec": {
   "display_name": "Python 3 (ipykernel)",
   "language": "python",
   "name": "python3"
  },
  "language_info": {
   "codemirror_mode": {
    "name": "ipython",
    "version": 3
   },
   "file_extension": ".py",
   "mimetype": "text/x-python",
   "name": "python",
   "nbconvert_exporter": "python",
   "pygments_lexer": "ipython3",
   "version": "3.9.7"
  }
 },
 "nbformat": 4,
 "nbformat_minor": 5
}
