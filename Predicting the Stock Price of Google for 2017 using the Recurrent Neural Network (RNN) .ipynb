{
 "cells": [
  {
   "cell_type": "markdown",
   "id": "b4943fa3",
   "metadata": {},
   "source": [
    "# Recurrent Neural Network"
   ]
  },
  {
   "cell_type": "code",
   "execution_count": 1,
   "id": "79668824",
   "metadata": {},
   "outputs": [],
   "source": [
    "#Step 1) Importing the Libraries:\n",
    "import pandas as pd  #Analysis\n",
    "import numpy as np   #Number operations\n",
    "import matplotlib.pyplot as plt  #Visualization\n",
    "from sklearn.preprocessing import MinMaxScaler  #Scaling\n",
    "from keras.models import Sequential  #model\n",
    "from keras.layers import Dense     #hidden layer\n",
    "from keras.layers import LSTM      #for long-short term memory for exploding gradient problem\n",
    "from keras.layers import Dropout   #how much the droping should be done in LSTM\n"
   ]
  },
  {
   "cell_type": "code",
   "execution_count": 65,
   "id": "3b830ceb",
   "metadata": {},
   "outputs": [
    {
     "data": {
      "text/html": [
       "<div>\n",
       "<style scoped>\n",
       "    .dataframe tbody tr th:only-of-type {\n",
       "        vertical-align: middle;\n",
       "    }\n",
       "\n",
       "    .dataframe tbody tr th {\n",
       "        vertical-align: top;\n",
       "    }\n",
       "\n",
       "    .dataframe thead th {\n",
       "        text-align: right;\n",
       "    }\n",
       "</style>\n",
       "<table border=\"1\" class=\"dataframe\">\n",
       "  <thead>\n",
       "    <tr style=\"text-align: right;\">\n",
       "      <th></th>\n",
       "      <th>Date</th>\n",
       "      <th>Open</th>\n",
       "      <th>High</th>\n",
       "      <th>Low</th>\n",
       "      <th>Close</th>\n",
       "      <th>Volume</th>\n",
       "    </tr>\n",
       "  </thead>\n",
       "  <tbody>\n",
       "    <tr>\n",
       "      <th>0</th>\n",
       "      <td>1/3/2012</td>\n",
       "      <td>325.25</td>\n",
       "      <td>332.83</td>\n",
       "      <td>324.97</td>\n",
       "      <td>663.59</td>\n",
       "      <td>7,380,500</td>\n",
       "    </tr>\n",
       "    <tr>\n",
       "      <th>1</th>\n",
       "      <td>1/4/2012</td>\n",
       "      <td>331.27</td>\n",
       "      <td>333.87</td>\n",
       "      <td>329.08</td>\n",
       "      <td>666.45</td>\n",
       "      <td>5,749,400</td>\n",
       "    </tr>\n",
       "    <tr>\n",
       "      <th>2</th>\n",
       "      <td>1/5/2012</td>\n",
       "      <td>329.83</td>\n",
       "      <td>330.75</td>\n",
       "      <td>326.89</td>\n",
       "      <td>657.21</td>\n",
       "      <td>6,590,300</td>\n",
       "    </tr>\n",
       "    <tr>\n",
       "      <th>3</th>\n",
       "      <td>1/6/2012</td>\n",
       "      <td>328.34</td>\n",
       "      <td>328.77</td>\n",
       "      <td>323.68</td>\n",
       "      <td>648.24</td>\n",
       "      <td>5,405,900</td>\n",
       "    </tr>\n",
       "    <tr>\n",
       "      <th>4</th>\n",
       "      <td>1/9/2012</td>\n",
       "      <td>322.04</td>\n",
       "      <td>322.29</td>\n",
       "      <td>309.46</td>\n",
       "      <td>620.76</td>\n",
       "      <td>11,688,800</td>\n",
       "    </tr>\n",
       "    <tr>\n",
       "      <th>5</th>\n",
       "      <td>1/10/2012</td>\n",
       "      <td>313.70</td>\n",
       "      <td>315.72</td>\n",
       "      <td>307.30</td>\n",
       "      <td>621.43</td>\n",
       "      <td>8,824,000</td>\n",
       "    </tr>\n",
       "    <tr>\n",
       "      <th>6</th>\n",
       "      <td>1/11/2012</td>\n",
       "      <td>310.59</td>\n",
       "      <td>313.52</td>\n",
       "      <td>309.40</td>\n",
       "      <td>624.25</td>\n",
       "      <td>4,817,800</td>\n",
       "    </tr>\n",
       "    <tr>\n",
       "      <th>7</th>\n",
       "      <td>1/12/2012</td>\n",
       "      <td>314.43</td>\n",
       "      <td>315.26</td>\n",
       "      <td>312.08</td>\n",
       "      <td>627.92</td>\n",
       "      <td>3,764,400</td>\n",
       "    </tr>\n",
       "    <tr>\n",
       "      <th>8</th>\n",
       "      <td>1/13/2012</td>\n",
       "      <td>311.96</td>\n",
       "      <td>312.30</td>\n",
       "      <td>309.37</td>\n",
       "      <td>623.28</td>\n",
       "      <td>4,631,800</td>\n",
       "    </tr>\n",
       "    <tr>\n",
       "      <th>9</th>\n",
       "      <td>1/17/2012</td>\n",
       "      <td>314.81</td>\n",
       "      <td>314.81</td>\n",
       "      <td>311.67</td>\n",
       "      <td>626.86</td>\n",
       "      <td>3,832,800</td>\n",
       "    </tr>\n",
       "  </tbody>\n",
       "</table>\n",
       "</div>"
      ],
      "text/plain": [
       "        Date    Open    High     Low   Close      Volume\n",
       "0   1/3/2012  325.25  332.83  324.97  663.59   7,380,500\n",
       "1   1/4/2012  331.27  333.87  329.08  666.45   5,749,400\n",
       "2   1/5/2012  329.83  330.75  326.89  657.21   6,590,300\n",
       "3   1/6/2012  328.34  328.77  323.68  648.24   5,405,900\n",
       "4   1/9/2012  322.04  322.29  309.46  620.76  11,688,800\n",
       "5  1/10/2012  313.70  315.72  307.30  621.43   8,824,000\n",
       "6  1/11/2012  310.59  313.52  309.40  624.25   4,817,800\n",
       "7  1/12/2012  314.43  315.26  312.08  627.92   3,764,400\n",
       "8  1/13/2012  311.96  312.30  309.37  623.28   4,631,800\n",
       "9  1/17/2012  314.81  314.81  311.67  626.86   3,832,800"
      ]
     },
     "execution_count": 65,
     "metadata": {},
     "output_type": "execute_result"
    }
   ],
   "source": [
    "#Step 2) Import the dataset:\n",
    "train_df=pd.read_csv(r\"E:\\Dataset_for_Analysis\\AI DEEP LEARNING\\RNN\\Google_Stock_Price_Train.csv\")\n",
    "train_df.head(10)"
   ]
  },
  {
   "cell_type": "code",
   "execution_count": 66,
   "id": "c1d4682d",
   "metadata": {},
   "outputs": [
    {
     "data": {
      "text/html": [
       "<div>\n",
       "<style scoped>\n",
       "    .dataframe tbody tr th:only-of-type {\n",
       "        vertical-align: middle;\n",
       "    }\n",
       "\n",
       "    .dataframe tbody tr th {\n",
       "        vertical-align: top;\n",
       "    }\n",
       "\n",
       "    .dataframe thead th {\n",
       "        text-align: right;\n",
       "    }\n",
       "</style>\n",
       "<table border=\"1\" class=\"dataframe\">\n",
       "  <thead>\n",
       "    <tr style=\"text-align: right;\">\n",
       "      <th></th>\n",
       "      <th>Date</th>\n",
       "      <th>Open</th>\n",
       "      <th>High</th>\n",
       "      <th>Low</th>\n",
       "      <th>Close</th>\n",
       "      <th>Volume</th>\n",
       "    </tr>\n",
       "  </thead>\n",
       "  <tbody>\n",
       "    <tr>\n",
       "      <th>0</th>\n",
       "      <td>1/3/2012</td>\n",
       "      <td>325.25</td>\n",
       "      <td>332.83</td>\n",
       "      <td>324.97</td>\n",
       "      <td>663.59</td>\n",
       "      <td>7,380,500</td>\n",
       "    </tr>\n",
       "    <tr>\n",
       "      <th>1</th>\n",
       "      <td>1/4/2012</td>\n",
       "      <td>331.27</td>\n",
       "      <td>333.87</td>\n",
       "      <td>329.08</td>\n",
       "      <td>666.45</td>\n",
       "      <td>5,749,400</td>\n",
       "    </tr>\n",
       "    <tr>\n",
       "      <th>2</th>\n",
       "      <td>1/5/2012</td>\n",
       "      <td>329.83</td>\n",
       "      <td>330.75</td>\n",
       "      <td>326.89</td>\n",
       "      <td>657.21</td>\n",
       "      <td>6,590,300</td>\n",
       "    </tr>\n",
       "    <tr>\n",
       "      <th>3</th>\n",
       "      <td>1/6/2012</td>\n",
       "      <td>328.34</td>\n",
       "      <td>328.77</td>\n",
       "      <td>323.68</td>\n",
       "      <td>648.24</td>\n",
       "      <td>5,405,900</td>\n",
       "    </tr>\n",
       "    <tr>\n",
       "      <th>4</th>\n",
       "      <td>1/9/2012</td>\n",
       "      <td>322.04</td>\n",
       "      <td>322.29</td>\n",
       "      <td>309.46</td>\n",
       "      <td>620.76</td>\n",
       "      <td>11,688,800</td>\n",
       "    </tr>\n",
       "  </tbody>\n",
       "</table>\n",
       "</div>"
      ],
      "text/plain": [
       "       Date    Open    High     Low   Close      Volume\n",
       "0  1/3/2012  325.25  332.83  324.97  663.59   7,380,500\n",
       "1  1/4/2012  331.27  333.87  329.08  666.45   5,749,400\n",
       "2  1/5/2012  329.83  330.75  326.89  657.21   6,590,300\n",
       "3  1/6/2012  328.34  328.77  323.68  648.24   5,405,900\n",
       "4  1/9/2012  322.04  322.29  309.46  620.76  11,688,800"
      ]
     },
     "execution_count": 66,
     "metadata": {},
     "output_type": "execute_result"
    }
   ],
   "source": [
    "train_df1=train_df.copy()\n",
    "train_df1.head()"
   ]
  },
  {
   "cell_type": "code",
   "execution_count": 67,
   "id": "0dcb0ab7",
   "metadata": {},
   "outputs": [
    {
     "name": "stdout",
     "output_type": "stream",
     "text": [
      "<class 'pandas.core.frame.DataFrame'>\n",
      "RangeIndex: 1258 entries, 0 to 1257\n",
      "Data columns (total 6 columns):\n",
      " #   Column  Non-Null Count  Dtype  \n",
      "---  ------  --------------  -----  \n",
      " 0   Date    1258 non-null   object \n",
      " 1   Open    1258 non-null   float64\n",
      " 2   High    1258 non-null   float64\n",
      " 3   Low     1258 non-null   float64\n",
      " 4   Close   1258 non-null   object \n",
      " 5   Volume  1258 non-null   object \n",
      "dtypes: float64(3), object(3)\n",
      "memory usage: 59.1+ KB\n"
     ]
    }
   ],
   "source": [
    "train_df1.info()"
   ]
  },
  {
   "cell_type": "code",
   "execution_count": 68,
   "id": "99d2779a",
   "metadata": {},
   "outputs": [
    {
     "data": {
      "text/plain": [
       "array([325.25, 331.27, 329.83, ..., 793.7 , 783.33, 782.75])"
      ]
     },
     "execution_count": 68,
     "metadata": {},
     "output_type": "execute_result"
    }
   ],
   "source": [
    "train_df1[\"Open\"].values  #Here, its an one dimension"
   ]
  },
  {
   "cell_type": "code",
   "execution_count": 69,
   "id": "e2e44ad9",
   "metadata": {},
   "outputs": [
    {
     "data": {
      "text/plain": [
       "array([[325.25],\n",
       "       [331.27],\n",
       "       [329.83],\n",
       "       ...,\n",
       "       [793.7 ],\n",
       "       [783.33],\n",
       "       [782.75]])"
      ]
     },
     "execution_count": 69,
     "metadata": {},
     "output_type": "execute_result"
    }
   ],
   "source": [
    "train_df1.iloc[:,1:2].values  #Here, its multidimension in nature, taking this since it will be apt for scaling and training"
   ]
  },
  {
   "cell_type": "code",
   "execution_count": 70,
   "id": "6949d502",
   "metadata": {},
   "outputs": [
    {
     "name": "stdout",
     "output_type": "stream",
     "text": [
      "[[325.25]\n",
      " [331.27]\n",
      " [329.83]\n",
      " ...\n",
      " [793.7 ]\n",
      " [783.33]\n",
      " [782.75]]\n"
     ]
    }
   ],
   "source": [
    "training_set=train_df1.iloc[:,1:2].values\n",
    "print(training_set)"
   ]
  },
  {
   "cell_type": "code",
   "execution_count": 71,
   "id": "42ed1094",
   "metadata": {},
   "outputs": [],
   "source": [
    "# Scaling:  #sc-scaling\n",
    "sc=MinMaxScaler()\n",
    "scaled_training_set=sc.fit_transform(training_set)  #using the minmax for value range[0-1]"
   ]
  },
  {
   "cell_type": "code",
   "execution_count": 72,
   "id": "d990603c",
   "metadata": {},
   "outputs": [
    {
     "name": "stdout",
     "output_type": "stream",
     "text": [
      "[[0.08581368]\n",
      " [0.09701243]\n",
      " [0.09433366]\n",
      " ...\n",
      " [0.95725128]\n",
      " [0.93796041]\n",
      " [0.93688146]]\n"
     ]
    }
   ],
   "source": [
    "print(scaled_training_set)"
   ]
  },
  {
   "cell_type": "code",
   "execution_count": 73,
   "id": "974f1571",
   "metadata": {},
   "outputs": [
    {
     "name": "stdout",
     "output_type": "stream",
     "text": [
      "1258\n"
     ]
    }
   ],
   "source": [
    "length=len(scaled_training_set)\n",
    "print(length)  #its for manually splitting train and test data #using #80:20 ratio"
   ]
  },
  {
   "cell_type": "code",
   "execution_count": 74,
   "id": "5c20f19e",
   "metadata": {},
   "outputs": [
    {
     "name": "stdout",
     "output_type": "stream",
     "text": [
      "1006\n"
     ]
    }
   ],
   "source": [
    "train=int(length*0.80)  #want the train data at 80.20 ratio\n",
    "print(train)"
   ]
  },
  {
   "cell_type": "code",
   "execution_count": 47,
   "id": "b82561ad",
   "metadata": {},
   "outputs": [],
   "source": [
    "X_train = []\n",
    "Y_train = []\n",
    "for i in range(252,1258):  #in order to get the 1006 data for train using the manual split\n",
    "    X_train.append(scaled_training_set[i-252:i,0])\n",
    "    Y_train.append(scaled_training_set[i,0])\n",
    "X_train, Y_train = np.array(X_train), np.array(Y_train)"
   ]
  },
  {
   "cell_type": "code",
   "execution_count": 48,
   "id": "5e9f22dd",
   "metadata": {},
   "outputs": [
    {
     "data": {
      "text/plain": [
       "array([0.15661508, 0.16227026, 0.16236327, ..., 0.95725128, 0.93796041,\n",
       "       0.93688146])"
      ]
     },
     "execution_count": 48,
     "metadata": {},
     "output_type": "execute_result"
    }
   ],
   "source": [
    "Y_train"
   ]
  },
  {
   "cell_type": "code",
   "execution_count": 49,
   "id": "57db7728",
   "metadata": {},
   "outputs": [
    {
     "data": {
      "text/plain": [
       "array([[0.08581368, 0.09701243, 0.09433366, ..., 0.12941811, 0.1474254 ,\n",
       "        0.15252251],\n",
       "       [0.09701243, 0.09433366, 0.09156187, ..., 0.1474254 , 0.15252251,\n",
       "        0.15661508],\n",
       "       [0.09433366, 0.09156187, 0.07984225, ..., 0.15252251, 0.15661508,\n",
       "        0.16227026],\n",
       "       ...,\n",
       "       [0.90700573, 0.92544088, 0.91223305, ..., 0.95475854, 0.95204256,\n",
       "        0.95163331],\n",
       "       [0.92544088, 0.91223305, 0.86293623, ..., 0.95204256, 0.95163331,\n",
       "        0.95725128],\n",
       "       [0.91223305, 0.86293623, 0.86935412, ..., 0.95163331, 0.95725128,\n",
       "        0.93796041]])"
      ]
     },
     "execution_count": 49,
     "metadata": {},
     "output_type": "execute_result"
    }
   ],
   "source": [
    "X_train"
   ]
  },
  {
   "cell_type": "code",
   "execution_count": 50,
   "id": "c41294cd",
   "metadata": {},
   "outputs": [
    {
     "data": {
      "text/plain": [
       "1006"
      ]
     },
     "execution_count": 50,
     "metadata": {},
     "output_type": "execute_result"
    }
   ],
   "source": [
    "len(X_train)"
   ]
  },
  {
   "cell_type": "code",
   "execution_count": 51,
   "id": "3941b89b",
   "metadata": {},
   "outputs": [
    {
     "data": {
      "text/plain": [
       "1006"
      ]
     },
     "execution_count": 51,
     "metadata": {},
     "output_type": "execute_result"
    }
   ],
   "source": [
    "len(Y_train)"
   ]
  },
  {
   "cell_type": "code",
   "execution_count": 85,
   "id": "70263d1e",
   "metadata": {},
   "outputs": [
    {
     "data": {
      "text/plain": [
       "1006"
      ]
     },
     "execution_count": 85,
     "metadata": {},
     "output_type": "execute_result"
    }
   ],
   "source": [
    "X_train = np.reshape(X_train, (X_train.shape[0], X_train.shape[1],1)) \n",
    "len(X_train)   #Reshaping"
   ]
  },
  {
   "cell_type": "code",
   "execution_count": 86,
   "id": "76217902",
   "metadata": {},
   "outputs": [],
   "source": [
    "regressor = Sequential() #Calling the RNN"
   ]
  },
  {
   "cell_type": "code",
   "execution_count": 89,
   "id": "02c4fca9",
   "metadata": {},
   "outputs": [],
   "source": [
    "regressor.add(LSTM(units = 50, return_sequences = True, input_shape = (X_train.shape[1],1)))\n",
    "regressor.add(Dropout(0.15))"
   ]
  },
  {
   "cell_type": "code",
   "execution_count": 90,
   "id": "e0eaaeaa",
   "metadata": {},
   "outputs": [],
   "source": [
    "regressor.add(LSTM(units = 50, return_sequences = True))\n",
    "regressor.add(Dropout(0.15))   #Second_layer"
   ]
  },
  {
   "cell_type": "code",
   "execution_count": 91,
   "id": "399e2263",
   "metadata": {},
   "outputs": [],
   "source": [
    "regressor.add(LSTM(units = 50, return_sequences = True))\n",
    "regressor.add(Dropout(0.15))   #Third_layer"
   ]
  },
  {
   "cell_type": "code",
   "execution_count": 92,
   "id": "42455617",
   "metadata": {},
   "outputs": [],
   "source": [
    "regressor.add(LSTM(units = 50))\n",
    "regressor.add(Dropout(0.15))   #fourth_layer  Since LSTM has four layers"
   ]
  },
  {
   "cell_type": "code",
   "execution_count": 93,
   "id": "0c217bbc",
   "metadata": {},
   "outputs": [],
   "source": [
    "regressor.add(Dense(units = 1))  #adding Output layer"
   ]
  },
  {
   "cell_type": "code",
   "execution_count": 94,
   "id": "24dc151e",
   "metadata": {},
   "outputs": [],
   "source": [
    "regressor.compile(optimizer = 'adam', loss = 'mean_squared_error') #Configures the model for training."
   ]
  },
  {
   "cell_type": "code",
   "execution_count": 95,
   "id": "03568c99",
   "metadata": {},
   "outputs": [
    {
     "name": "stdout",
     "output_type": "stream",
     "text": [
      "Epoch 1/100\n",
      "32/32 [==============================] - 10s 195ms/step - loss: 0.0607\n",
      "Epoch 2/100\n",
      "32/32 [==============================] - 6s 196ms/step - loss: 0.0061\n",
      "Epoch 3/100\n",
      "32/32 [==============================] - 6s 197ms/step - loss: 0.0059\n",
      "Epoch 4/100\n",
      "32/32 [==============================] - 6s 199ms/step - loss: 0.0054\n",
      "Epoch 5/100\n",
      "32/32 [==============================] - 6s 195ms/step - loss: 0.0047\n",
      "Epoch 6/100\n",
      "32/32 [==============================] - 6s 197ms/step - loss: 0.0051\n",
      "Epoch 7/100\n",
      "32/32 [==============================] - 6s 192ms/step - loss: 0.0047\n",
      "Epoch 8/100\n",
      "32/32 [==============================] - 6s 193ms/step - loss: 0.0044\n",
      "Epoch 9/100\n",
      "32/32 [==============================] - 6s 194ms/step - loss: 0.0045\n",
      "Epoch 10/100\n",
      "32/32 [==============================] - 6s 192ms/step - loss: 0.0043\n",
      "Epoch 11/100\n",
      "32/32 [==============================] - 6s 193ms/step - loss: 0.0051\n",
      "Epoch 12/100\n",
      "32/32 [==============================] - 6s 190ms/step - loss: 0.0047\n",
      "Epoch 13/100\n",
      "32/32 [==============================] - 6s 189ms/step - loss: 0.0051\n",
      "Epoch 14/100\n",
      "32/32 [==============================] - 6s 189ms/step - loss: 0.0036\n",
      "Epoch 15/100\n",
      "32/32 [==============================] - 6s 189ms/step - loss: 0.0041\n",
      "Epoch 16/100\n",
      "32/32 [==============================] - 6s 188ms/step - loss: 0.0033\n",
      "Epoch 17/100\n",
      "32/32 [==============================] - 6s 189ms/step - loss: 0.0040\n",
      "Epoch 18/100\n",
      "32/32 [==============================] - 6s 189ms/step - loss: 0.0039\n",
      "Epoch 19/100\n",
      "32/32 [==============================] - 6s 188ms/step - loss: 0.0036\n",
      "Epoch 20/100\n",
      "32/32 [==============================] - 6s 189ms/step - loss: 0.0032\n",
      "Epoch 21/100\n",
      "32/32 [==============================] - 6s 191ms/step - loss: 0.0036\n",
      "Epoch 22/100\n",
      "32/32 [==============================] - 6s 190ms/step - loss: 0.0037\n",
      "Epoch 23/100\n",
      "32/32 [==============================] - 6s 190ms/step - loss: 0.0040\n",
      "Epoch 24/100\n",
      "32/32 [==============================] - 6s 190ms/step - loss: 0.0033\n",
      "Epoch 25/100\n",
      "32/32 [==============================] - 6s 190ms/step - loss: 0.0033\n",
      "Epoch 26/100\n",
      "32/32 [==============================] - 6s 191ms/step - loss: 0.0031\n",
      "Epoch 27/100\n",
      "32/32 [==============================] - 6s 191ms/step - loss: 0.0034\n",
      "Epoch 28/100\n",
      "32/32 [==============================] - 6s 189ms/step - loss: 0.0036\n",
      "Epoch 29/100\n",
      "32/32 [==============================] - 6s 190ms/step - loss: 0.0030\n",
      "Epoch 30/100\n",
      "32/32 [==============================] - 6s 189ms/step - loss: 0.0030\n",
      "Epoch 31/100\n",
      "32/32 [==============================] - 6s 190ms/step - loss: 0.0031\n",
      "Epoch 32/100\n",
      "32/32 [==============================] - 6s 190ms/step - loss: 0.0034 1s - loss:\n",
      "Epoch 33/100\n",
      "32/32 [==============================] - 6s 190ms/step - loss: 0.0034\n",
      "Epoch 34/100\n",
      "32/32 [==============================] - 6s 189ms/step - loss: 0.0035 1s - los\n",
      "Epoch 35/100\n",
      "32/32 [==============================] - 6s 190ms/step - loss: 0.0031\n",
      "Epoch 36/100\n",
      "32/32 [==============================] - 6s 190ms/step - loss: 0.0029\n",
      "Epoch 37/100\n",
      "32/32 [==============================] - 6s 189ms/step - loss: 0.0030\n",
      "Epoch 38/100\n",
      "32/32 [==============================] - 6s 189ms/step - loss: 0.0028\n",
      "Epoch 39/100\n",
      "32/32 [==============================] - 6s 189ms/step - loss: 0.0029\n",
      "Epoch 40/100\n",
      "32/32 [==============================] - 6s 189ms/step - loss: 0.0029\n",
      "Epoch 41/100\n",
      "32/32 [==============================] - 6s 192ms/step - loss: 0.0034\n",
      "Epoch 42/100\n",
      "32/32 [==============================] - 6s 191ms/step - loss: 0.0030\n",
      "Epoch 43/100\n",
      "32/32 [==============================] - 6s 189ms/step - loss: 0.0027\n",
      "Epoch 44/100\n",
      "32/32 [==============================] - 6s 190ms/step - loss: 0.0029\n",
      "Epoch 45/100\n",
      "32/32 [==============================] - 6s 190ms/step - loss: 0.0026\n",
      "Epoch 46/100\n",
      "32/32 [==============================] - 6s 189ms/step - loss: 0.0027\n",
      "Epoch 47/100\n",
      "32/32 [==============================] - 6s 189ms/step - loss: 0.0030\n",
      "Epoch 48/100\n",
      "32/32 [==============================] - 6s 189ms/step - loss: 0.0027\n",
      "Epoch 49/100\n",
      "32/32 [==============================] - 6s 191ms/step - loss: 0.0023\n",
      "Epoch 50/100\n",
      "32/32 [==============================] - 6s 190ms/step - loss: 0.0026\n",
      "Epoch 51/100\n",
      "32/32 [==============================] - 6s 190ms/step - loss: 0.0026\n",
      "Epoch 52/100\n",
      "32/32 [==============================] - 6s 189ms/step - loss: 0.0026\n",
      "Epoch 53/100\n",
      "32/32 [==============================] - 6s 192ms/step - loss: 0.0027\n",
      "Epoch 54/100\n",
      "32/32 [==============================] - 6s 189ms/step - loss: 0.0024\n",
      "Epoch 55/100\n",
      "32/32 [==============================] - 6s 191ms/step - loss: 0.0025\n",
      "Epoch 56/100\n",
      "32/32 [==============================] - 6s 188ms/step - loss: 0.0025\n",
      "Epoch 57/100\n",
      "32/32 [==============================] - 6s 188ms/step - loss: 0.0024\n",
      "Epoch 58/100\n",
      "32/32 [==============================] - 6s 189ms/step - loss: 0.0024\n",
      "Epoch 59/100\n",
      "32/32 [==============================] - 6s 193ms/step - loss: 0.0021\n",
      "Epoch 60/100\n",
      "32/32 [==============================] - 6s 189ms/step - loss: 0.0023\n",
      "Epoch 61/100\n",
      "32/32 [==============================] - 6s 189ms/step - loss: 0.0025\n",
      "Epoch 62/100\n",
      "32/32 [==============================] - 6s 190ms/step - loss: 0.0027\n",
      "Epoch 63/100\n",
      "32/32 [==============================] - 6s 189ms/step - loss: 0.0021\n",
      "Epoch 64/100\n",
      "32/32 [==============================] - 6s 190ms/step - loss: 0.0021\n",
      "Epoch 65/100\n",
      "32/32 [==============================] - 6s 191ms/step - loss: 0.0021\n",
      "Epoch 66/100\n",
      "32/32 [==============================] - 6s 190ms/step - loss: 0.0020\n",
      "Epoch 67/100\n",
      "32/32 [==============================] - 6s 189ms/step - loss: 0.0019\n",
      "Epoch 68/100\n",
      "32/32 [==============================] - 6s 189ms/step - loss: 0.0021\n",
      "Epoch 69/100\n",
      "32/32 [==============================] - 6s 188ms/step - loss: 0.0020\n",
      "Epoch 70/100\n",
      "32/32 [==============================] - 6s 188ms/step - loss: 0.0021\n",
      "Epoch 71/100\n",
      "32/32 [==============================] - 6s 189ms/step - loss: 0.0021\n",
      "Epoch 72/100\n",
      "32/32 [==============================] - 6s 188ms/step - loss: 0.0020\n",
      "Epoch 73/100\n",
      "32/32 [==============================] - 6s 189ms/step - loss: 0.0018\n",
      "Epoch 74/100\n",
      "32/32 [==============================] - 6s 192ms/step - loss: 0.0018\n",
      "Epoch 75/100\n",
      "32/32 [==============================] - 6s 188ms/step - loss: 0.0019\n",
      "Epoch 76/100\n",
      "32/32 [==============================] - 6s 191ms/step - loss: 0.0019\n",
      "Epoch 77/100\n",
      "32/32 [==============================] - 6s 190ms/step - loss: 0.0018\n",
      "Epoch 78/100\n",
      "32/32 [==============================] - 6s 190ms/step - loss: 0.0016\n",
      "Epoch 79/100\n",
      "32/32 [==============================] - 6s 191ms/step - loss: 0.0018\n",
      "Epoch 80/100\n",
      "32/32 [==============================] - 6s 190ms/step - loss: 0.0018\n",
      "Epoch 81/100\n",
      "32/32 [==============================] - 6s 188ms/step - loss: 0.0016\n",
      "Epoch 82/100\n",
      "32/32 [==============================] - 6s 189ms/step - loss: 0.0017\n",
      "Epoch 83/100\n",
      "32/32 [==============================] - 6s 191ms/step - loss: 0.0019\n",
      "Epoch 84/100\n",
      "32/32 [==============================] - 6s 190ms/step - loss: 0.0016\n",
      "Epoch 85/100\n",
      "32/32 [==============================] - 6s 188ms/step - loss: 0.0017\n",
      "Epoch 86/100\n",
      "32/32 [==============================] - 6s 189ms/step - loss: 0.0017\n",
      "Epoch 87/100\n",
      "32/32 [==============================] - 6s 189ms/step - loss: 0.0016\n",
      "Epoch 88/100\n",
      "32/32 [==============================] - 6s 190ms/step - loss: 0.0020\n",
      "Epoch 89/100\n",
      "32/32 [==============================] - 6s 188ms/step - loss: 0.0016\n",
      "Epoch 90/100\n",
      "32/32 [==============================] - 6s 189ms/step - loss: 0.0016\n",
      "Epoch 91/100\n",
      "32/32 [==============================] - 6s 189ms/step - loss: 0.0016\n",
      "Epoch 92/100\n",
      "32/32 [==============================] - 6s 190ms/step - loss: 0.0019\n",
      "Epoch 93/100\n",
      "32/32 [==============================] - 6s 189ms/step - loss: 0.0016\n",
      "Epoch 94/100\n",
      "32/32 [==============================] - 6s 189ms/step - loss: 0.0015\n",
      "Epoch 95/100\n",
      "32/32 [==============================] - 6s 190ms/step - loss: 0.0014\n",
      "Epoch 96/100\n",
      "32/32 [==============================] - 6s 189ms/step - loss: 0.0014\n",
      "Epoch 97/100\n",
      "32/32 [==============================] - 6s 189ms/step - loss: 0.0013\n",
      "Epoch 98/100\n",
      "32/32 [==============================] - 6s 189ms/step - loss: 0.0015\n",
      "Epoch 99/100\n"
     ]
    },
    {
     "name": "stdout",
     "output_type": "stream",
     "text": [
      "32/32 [==============================] - 6s 189ms/step - loss: 0.0014\n",
      "Epoch 100/100\n",
      "32/32 [==============================] - 6s 190ms/step - loss: 0.0014\n"
     ]
    },
    {
     "data": {
      "text/plain": [
       "<keras.callbacks.History at 0x12015fdf040>"
      ]
     },
     "execution_count": 95,
     "metadata": {},
     "output_type": "execute_result"
    }
   ],
   "source": [
    "regressor.fit(X_train, Y_train, epochs = 100, batch_size = 32)"
   ]
  },
  {
   "cell_type": "code",
   "execution_count": 96,
   "id": "e824716e",
   "metadata": {},
   "outputs": [
    {
     "data": {
      "text/html": [
       "<div>\n",
       "<style scoped>\n",
       "    .dataframe tbody tr th:only-of-type {\n",
       "        vertical-align: middle;\n",
       "    }\n",
       "\n",
       "    .dataframe tbody tr th {\n",
       "        vertical-align: top;\n",
       "    }\n",
       "\n",
       "    .dataframe thead th {\n",
       "        text-align: right;\n",
       "    }\n",
       "</style>\n",
       "<table border=\"1\" class=\"dataframe\">\n",
       "  <thead>\n",
       "    <tr style=\"text-align: right;\">\n",
       "      <th></th>\n",
       "      <th>Date</th>\n",
       "      <th>Open</th>\n",
       "      <th>High</th>\n",
       "      <th>Low</th>\n",
       "      <th>Close</th>\n",
       "      <th>Volume</th>\n",
       "    </tr>\n",
       "  </thead>\n",
       "  <tbody>\n",
       "    <tr>\n",
       "      <th>0</th>\n",
       "      <td>1/3/2017</td>\n",
       "      <td>778.81</td>\n",
       "      <td>789.63</td>\n",
       "      <td>775.80</td>\n",
       "      <td>786.14</td>\n",
       "      <td>1,657,300</td>\n",
       "    </tr>\n",
       "    <tr>\n",
       "      <th>1</th>\n",
       "      <td>1/4/2017</td>\n",
       "      <td>788.36</td>\n",
       "      <td>791.34</td>\n",
       "      <td>783.16</td>\n",
       "      <td>786.90</td>\n",
       "      <td>1,073,000</td>\n",
       "    </tr>\n",
       "    <tr>\n",
       "      <th>2</th>\n",
       "      <td>1/5/2017</td>\n",
       "      <td>786.08</td>\n",
       "      <td>794.48</td>\n",
       "      <td>785.02</td>\n",
       "      <td>794.02</td>\n",
       "      <td>1,335,200</td>\n",
       "    </tr>\n",
       "    <tr>\n",
       "      <th>3</th>\n",
       "      <td>1/6/2017</td>\n",
       "      <td>795.26</td>\n",
       "      <td>807.90</td>\n",
       "      <td>792.20</td>\n",
       "      <td>806.15</td>\n",
       "      <td>1,640,200</td>\n",
       "    </tr>\n",
       "    <tr>\n",
       "      <th>4</th>\n",
       "      <td>1/9/2017</td>\n",
       "      <td>806.40</td>\n",
       "      <td>809.97</td>\n",
       "      <td>802.83</td>\n",
       "      <td>806.65</td>\n",
       "      <td>1,272,400</td>\n",
       "    </tr>\n",
       "  </tbody>\n",
       "</table>\n",
       "</div>"
      ],
      "text/plain": [
       "       Date    Open    High     Low   Close     Volume\n",
       "0  1/3/2017  778.81  789.63  775.80  786.14  1,657,300\n",
       "1  1/4/2017  788.36  791.34  783.16  786.90  1,073,000\n",
       "2  1/5/2017  786.08  794.48  785.02  794.02  1,335,200\n",
       "3  1/6/2017  795.26  807.90  792.20  806.15  1,640,200\n",
       "4  1/9/2017  806.40  809.97  802.83  806.65  1,272,400"
      ]
     },
     "execution_count": 96,
     "metadata": {},
     "output_type": "execute_result"
    }
   ],
   "source": [
    "#Importing the test_dataset\n",
    "test_df=pd.read_csv(r\"E:\\Dataset_for_Analysis\\AI DEEP LEARNING\\RNN\\Google_Stock_Price_Test.csv\")\n",
    "test_df.head()  #now take the open and append it to existing dataframe"
   ]
  },
  {
   "cell_type": "code",
   "execution_count": 97,
   "id": "f30b53ee",
   "metadata": {},
   "outputs": [
    {
     "data": {
      "text/html": [
       "<div>\n",
       "<style scoped>\n",
       "    .dataframe tbody tr th:only-of-type {\n",
       "        vertical-align: middle;\n",
       "    }\n",
       "\n",
       "    .dataframe tbody tr th {\n",
       "        vertical-align: top;\n",
       "    }\n",
       "\n",
       "    .dataframe thead th {\n",
       "        text-align: right;\n",
       "    }\n",
       "</style>\n",
       "<table border=\"1\" class=\"dataframe\">\n",
       "  <thead>\n",
       "    <tr style=\"text-align: right;\">\n",
       "      <th></th>\n",
       "      <th>Date</th>\n",
       "      <th>Open</th>\n",
       "      <th>High</th>\n",
       "      <th>Low</th>\n",
       "      <th>Close</th>\n",
       "      <th>Volume</th>\n",
       "    </tr>\n",
       "  </thead>\n",
       "  <tbody>\n",
       "    <tr>\n",
       "      <th>0</th>\n",
       "      <td>1/3/2017</td>\n",
       "      <td>778.81</td>\n",
       "      <td>789.63</td>\n",
       "      <td>775.80</td>\n",
       "      <td>786.14</td>\n",
       "      <td>1,657,300</td>\n",
       "    </tr>\n",
       "    <tr>\n",
       "      <th>1</th>\n",
       "      <td>1/4/2017</td>\n",
       "      <td>788.36</td>\n",
       "      <td>791.34</td>\n",
       "      <td>783.16</td>\n",
       "      <td>786.90</td>\n",
       "      <td>1,073,000</td>\n",
       "    </tr>\n",
       "    <tr>\n",
       "      <th>2</th>\n",
       "      <td>1/5/2017</td>\n",
       "      <td>786.08</td>\n",
       "      <td>794.48</td>\n",
       "      <td>785.02</td>\n",
       "      <td>794.02</td>\n",
       "      <td>1,335,200</td>\n",
       "    </tr>\n",
       "    <tr>\n",
       "      <th>3</th>\n",
       "      <td>1/6/2017</td>\n",
       "      <td>795.26</td>\n",
       "      <td>807.90</td>\n",
       "      <td>792.20</td>\n",
       "      <td>806.15</td>\n",
       "      <td>1,640,200</td>\n",
       "    </tr>\n",
       "    <tr>\n",
       "      <th>4</th>\n",
       "      <td>1/9/2017</td>\n",
       "      <td>806.40</td>\n",
       "      <td>809.97</td>\n",
       "      <td>802.83</td>\n",
       "      <td>806.65</td>\n",
       "      <td>1,272,400</td>\n",
       "    </tr>\n",
       "  </tbody>\n",
       "</table>\n",
       "</div>"
      ],
      "text/plain": [
       "       Date    Open    High     Low   Close     Volume\n",
       "0  1/3/2017  778.81  789.63  775.80  786.14  1,657,300\n",
       "1  1/4/2017  788.36  791.34  783.16  786.90  1,073,000\n",
       "2  1/5/2017  786.08  794.48  785.02  794.02  1,335,200\n",
       "3  1/6/2017  795.26  807.90  792.20  806.15  1,640,200\n",
       "4  1/9/2017  806.40  809.97  802.83  806.65  1,272,400"
      ]
     },
     "execution_count": 97,
     "metadata": {},
     "output_type": "execute_result"
    }
   ],
   "source": [
    "test_df1=test_df.copy()\n",
    "test_df1.head()"
   ]
  },
  {
   "cell_type": "code",
   "execution_count": 100,
   "id": "1cbef4aa",
   "metadata": {},
   "outputs": [
    {
     "data": {
      "text/html": [
       "<div>\n",
       "<style scoped>\n",
       "    .dataframe tbody tr th:only-of-type {\n",
       "        vertical-align: middle;\n",
       "    }\n",
       "\n",
       "    .dataframe tbody tr th {\n",
       "        vertical-align: top;\n",
       "    }\n",
       "\n",
       "    .dataframe thead th {\n",
       "        text-align: right;\n",
       "    }\n",
       "</style>\n",
       "<table border=\"1\" class=\"dataframe\">\n",
       "  <thead>\n",
       "    <tr style=\"text-align: right;\">\n",
       "      <th></th>\n",
       "      <th>Date</th>\n",
       "      <th>Open</th>\n",
       "      <th>High</th>\n",
       "      <th>Low</th>\n",
       "      <th>Close</th>\n",
       "      <th>Volume</th>\n",
       "    </tr>\n",
       "  </thead>\n",
       "  <tbody>\n",
       "    <tr>\n",
       "      <th>0</th>\n",
       "      <td>1/3/2012</td>\n",
       "      <td>325.25</td>\n",
       "      <td>332.83</td>\n",
       "      <td>324.97</td>\n",
       "      <td>663.59</td>\n",
       "      <td>7,380,500</td>\n",
       "    </tr>\n",
       "    <tr>\n",
       "      <th>1</th>\n",
       "      <td>1/4/2012</td>\n",
       "      <td>331.27</td>\n",
       "      <td>333.87</td>\n",
       "      <td>329.08</td>\n",
       "      <td>666.45</td>\n",
       "      <td>5,749,400</td>\n",
       "    </tr>\n",
       "    <tr>\n",
       "      <th>2</th>\n",
       "      <td>1/5/2012</td>\n",
       "      <td>329.83</td>\n",
       "      <td>330.75</td>\n",
       "      <td>326.89</td>\n",
       "      <td>657.21</td>\n",
       "      <td>6,590,300</td>\n",
       "    </tr>\n",
       "    <tr>\n",
       "      <th>3</th>\n",
       "      <td>1/6/2012</td>\n",
       "      <td>328.34</td>\n",
       "      <td>328.77</td>\n",
       "      <td>323.68</td>\n",
       "      <td>648.24</td>\n",
       "      <td>5,405,900</td>\n",
       "    </tr>\n",
       "    <tr>\n",
       "      <th>4</th>\n",
       "      <td>1/9/2012</td>\n",
       "      <td>322.04</td>\n",
       "      <td>322.29</td>\n",
       "      <td>309.46</td>\n",
       "      <td>620.76</td>\n",
       "      <td>11,688,800</td>\n",
       "    </tr>\n",
       "  </tbody>\n",
       "</table>\n",
       "</div>"
      ],
      "text/plain": [
       "       Date    Open    High     Low   Close      Volume\n",
       "0  1/3/2012  325.25  332.83  324.97  663.59   7,380,500\n",
       "1  1/4/2012  331.27  333.87  329.08  666.45   5,749,400\n",
       "2  1/5/2012  329.83  330.75  326.89  657.21   6,590,300\n",
       "3  1/6/2012  328.34  328.77  323.68  648.24   5,405,900\n",
       "4  1/9/2012  322.04  322.29  309.46  620.76  11,688,800"
      ]
     },
     "execution_count": 100,
     "metadata": {},
     "output_type": "execute_result"
    }
   ],
   "source": [
    "train_df1.head()"
   ]
  },
  {
   "cell_type": "code",
   "execution_count": 101,
   "id": "d5ca271a",
   "metadata": {},
   "outputs": [
    {
     "data": {
      "text/html": [
       "<div>\n",
       "<style scoped>\n",
       "    .dataframe tbody tr th:only-of-type {\n",
       "        vertical-align: middle;\n",
       "    }\n",
       "\n",
       "    .dataframe tbody tr th {\n",
       "        vertical-align: top;\n",
       "    }\n",
       "\n",
       "    .dataframe thead th {\n",
       "        text-align: right;\n",
       "    }\n",
       "</style>\n",
       "<table border=\"1\" class=\"dataframe\">\n",
       "  <thead>\n",
       "    <tr style=\"text-align: right;\">\n",
       "      <th></th>\n",
       "      <th>Date</th>\n",
       "      <th>Open</th>\n",
       "      <th>High</th>\n",
       "      <th>Low</th>\n",
       "      <th>Close</th>\n",
       "      <th>Volume</th>\n",
       "    </tr>\n",
       "  </thead>\n",
       "  <tbody>\n",
       "    <tr>\n",
       "      <th>0</th>\n",
       "      <td>1/3/2017</td>\n",
       "      <td>778.81</td>\n",
       "      <td>789.63</td>\n",
       "      <td>775.80</td>\n",
       "      <td>786.14</td>\n",
       "      <td>1,657,300</td>\n",
       "    </tr>\n",
       "    <tr>\n",
       "      <th>1</th>\n",
       "      <td>1/4/2017</td>\n",
       "      <td>788.36</td>\n",
       "      <td>791.34</td>\n",
       "      <td>783.16</td>\n",
       "      <td>786.90</td>\n",
       "      <td>1,073,000</td>\n",
       "    </tr>\n",
       "    <tr>\n",
       "      <th>2</th>\n",
       "      <td>1/5/2017</td>\n",
       "      <td>786.08</td>\n",
       "      <td>794.48</td>\n",
       "      <td>785.02</td>\n",
       "      <td>794.02</td>\n",
       "      <td>1,335,200</td>\n",
       "    </tr>\n",
       "    <tr>\n",
       "      <th>3</th>\n",
       "      <td>1/6/2017</td>\n",
       "      <td>795.26</td>\n",
       "      <td>807.90</td>\n",
       "      <td>792.20</td>\n",
       "      <td>806.15</td>\n",
       "      <td>1,640,200</td>\n",
       "    </tr>\n",
       "    <tr>\n",
       "      <th>4</th>\n",
       "      <td>1/9/2017</td>\n",
       "      <td>806.40</td>\n",
       "      <td>809.97</td>\n",
       "      <td>802.83</td>\n",
       "      <td>806.65</td>\n",
       "      <td>1,272,400</td>\n",
       "    </tr>\n",
       "  </tbody>\n",
       "</table>\n",
       "</div>"
      ],
      "text/plain": [
       "       Date    Open    High     Low   Close     Volume\n",
       "0  1/3/2017  778.81  789.63  775.80  786.14  1,657,300\n",
       "1  1/4/2017  788.36  791.34  783.16  786.90  1,073,000\n",
       "2  1/5/2017  786.08  794.48  785.02  794.02  1,335,200\n",
       "3  1/6/2017  795.26  807.90  792.20  806.15  1,640,200\n",
       "4  1/9/2017  806.40  809.97  802.83  806.65  1,272,400"
      ]
     },
     "execution_count": 101,
     "metadata": {},
     "output_type": "execute_result"
    }
   ],
   "source": [
    "test_df1.head()"
   ]
  },
  {
   "cell_type": "code",
   "execution_count": 102,
   "id": "32ec560c",
   "metadata": {},
   "outputs": [],
   "source": [
    "total_data = pd.concat((train_df1['Open'], test_df1['Open']), axis = 0) # rows concating to get target"
   ]
  },
  {
   "cell_type": "code",
   "execution_count": 103,
   "id": "65b19537",
   "metadata": {},
   "outputs": [
    {
     "data": {
      "text/plain": [
       "0    325.25\n",
       "1    331.27\n",
       "2    329.83\n",
       "3    328.34\n",
       "4    322.04\n",
       "5    313.70\n",
       "6    310.59\n",
       "7    314.43\n",
       "8    311.96\n",
       "9    314.81\n",
       "Name: Open, dtype: float64"
      ]
     },
     "execution_count": 103,
     "metadata": {},
     "output_type": "execute_result"
    }
   ],
   "source": [
    "total_data.head(10)"
   ]
  },
  {
   "cell_type": "code",
   "execution_count": 108,
   "id": "5ccb3883",
   "metadata": {},
   "outputs": [
    {
     "data": {
      "text/plain": [
       "1278"
      ]
     },
     "execution_count": 108,
     "metadata": {},
     "output_type": "execute_result"
    }
   ],
   "source": [
    "len(total_data)"
   ]
  },
  {
   "cell_type": "code",
   "execution_count": 105,
   "id": "dc012a30",
   "metadata": {},
   "outputs": [],
   "source": [
    "#above is the test data \n",
    "inputs = total_data[len(total_data) - len(test_df1) - 252:].values"
   ]
  },
  {
   "cell_type": "code",
   "execution_count": 106,
   "id": "3e7dfa72",
   "metadata": {},
   "outputs": [],
   "source": [
    "inputs = inputs.reshape(-1,1)  #Reshaping "
   ]
  },
  {
   "cell_type": "code",
   "execution_count": 107,
   "id": "f2b54a9e",
   "metadata": {},
   "outputs": [],
   "source": [
    "inputs = sc.transform(inputs)  #since already fit_transform done for train_dataset"
   ]
  },
  {
   "cell_type": "code",
   "execution_count": 109,
   "id": "18d5804a",
   "metadata": {},
   "outputs": [
    {
     "data": {
      "text/plain": [
       "272"
      ]
     },
     "execution_count": 109,
     "metadata": {},
     "output_type": "execute_result"
    }
   ],
   "source": [
    "len(inputs)"
   ]
  },
  {
   "cell_type": "code",
   "execution_count": 110,
   "id": "834c783c",
   "metadata": {},
   "outputs": [],
   "source": [
    "#Splitting the data\n",
    "X_test = []\n",
    "for i in range(252,272):\n",
    "    X_test.append(inputs[i-252:i,0])"
   ]
  },
  {
   "cell_type": "code",
   "execution_count": 111,
   "id": "29869fb1",
   "metadata": {},
   "outputs": [],
   "source": [
    "X_test = np.array(X_test)"
   ]
  },
  {
   "cell_type": "code",
   "execution_count": 112,
   "id": "21173018",
   "metadata": {},
   "outputs": [],
   "source": [
    "X_test = np.reshape(X_test, (X_test.shape[0], X_test.shape[1],1))"
   ]
  },
  {
   "cell_type": "code",
   "execution_count": 113,
   "id": "72386013",
   "metadata": {},
   "outputs": [],
   "source": [
    "predicted_stock_price = regressor.predict(X_test)\n",
    "predicted_stock_price = sc.inverse_transform(predicted_stock_price)"
   ]
  },
  {
   "cell_type": "code",
   "execution_count": 114,
   "id": "ac4d2cb7",
   "metadata": {},
   "outputs": [],
   "source": [
    "real_stock_price=test_df1.iloc[:,1:2].values"
   ]
  },
  {
   "cell_type": "code",
   "execution_count": 115,
   "id": "50d91fc7",
   "metadata": {},
   "outputs": [
    {
     "data": {
      "image/png": "[encoded data removed]",
      "text/plain": [
       "<Figure size 432x288 with 1 Axes>"
      ]
     },
     "metadata": {
      "needs_background": "light"
     },
     "output_type": "display_data"
    }
   ],
   "source": [
    "plt.plot(real_stock_price, color = 'red', label = 'Real Google Stock Price')\n",
    "plt.plot(predicted_stock_price, color = 'blue', label = 'Predicted Google Stock Price')\n",
    "plt.title('Google Stock Price Prediction')\n",
    "plt.xlabel('Time')\n",
    "plt.ylabel('Google Stock Price')\n",
    "plt.legend()\n",
    "plt.show()"
   ]
  },
  {
   "cell_type": "code",
   "execution_count": 118,
   "id": "54665b1b",
   "metadata": {},
   "outputs": [
    {
     "name": "stdout",
     "output_type": "stream",
     "text": [
      "R2 score= 0.2213885374576382\n"
     ]
    }
   ],
   "source": [
    "from sklearn.metrics import r2_score\n",
    "r2 = r2_score(real_stock_price, predicted_stock_price)\n",
    "print(\"R2 score=\",r2)"
   ]
  },
  {
   "cell_type": "code",
   "execution_count": 119,
   "id": "dfcab2ff",
   "metadata": {},
   "outputs": [
    {
     "name": "stdout",
     "output_type": "stream",
     "text": [
      "[[787.39386]\n",
      " [784.5182 ]\n",
      " [784.58966]\n",
      " [785.51855]\n",
      " [788.2446 ]\n",
      " [793.43445]\n",
      " [798.07227]\n",
      " [799.7365 ]\n",
      " [800.0233 ]\n",
      " [800.0641 ]\n",
      " [800.20013]\n",
      " [800.2865 ]\n",
      " [800.4074 ]\n",
      " [801.2049 ]\n",
      " [802.3432 ]\n",
      " [807.0897 ]\n",
      " [813.7966 ]\n",
      " [820.7682 ]\n",
      " [824.3794 ]\n",
      " [820.28064]]\n"
     ]
    }
   ],
   "source": [
    "print(predicted_stock_price)"
   ]
  },
  {
   "cell_type": "code",
   "execution_count": 120,
   "id": "9133d9bb",
   "metadata": {},
   "outputs": [
    {
     "name": "stdout",
     "output_type": "stream",
     "text": [
      "[[778.81]\n",
      " [788.36]\n",
      " [786.08]\n",
      " [795.26]\n",
      " [806.4 ]\n",
      " [807.86]\n",
      " [805.  ]\n",
      " [807.14]\n",
      " [807.48]\n",
      " [807.08]\n",
      " [805.81]\n",
      " [805.12]\n",
      " [806.91]\n",
      " [807.25]\n",
      " [822.3 ]\n",
      " [829.62]\n",
      " [837.81]\n",
      " [834.71]\n",
      " [814.66]\n",
      " [796.86]]\n"
     ]
    }
   ],
   "source": [
    "print(real_stock_price)"
   ]
  },
  {
   "cell_type": "code",
   "execution_count": null,
   "id": "bc81ea47",
   "metadata": {},
   "outputs": [],
   "source": []
  }
 ],
 "metadata": {
  "kernelspec": {
   "display_name": "Python 3 (ipykernel)",
   "language": "python",
   "name": "python3"
  },
  "language_info": {
   "codemirror_mode": {
    "name": "ipython",
    "version": 3
   },
   "file_extension": ".py",
   "mimetype": "text/x-python",
   "name": "python",
   "nbconvert_exporter": "python",
   "pygments_lexer": "ipython3",
   "version": "3.9.7"
  }
 },
 "nbformat": 4,
 "nbformat_minor": 5
}
